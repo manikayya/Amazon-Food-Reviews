{
  "nbformat": 4,
  "nbformat_minor": 0,
  "metadata": {
    "colab": {
      "name": "Untitled31.ipynb",
      "provenance": [],
      "machine_shape": "hm"
    },
    "kernelspec": {
      "name": "python3",
      "display_name": "Python 3"
    },
    "language_info": {
      "name": "python"
    },
    "accelerator": "GPU"
  },
  "cells": [
    {
      "cell_type": "code",
      "metadata": {
        "id": "3NRVcUWhcOiF"
      },
      "source": [
        "import numpy as np\n",
        "import pandas as pd\n",
        "from sklearn.metrics import confusion_matrix\n",
        "import matplotlib.pyplot as plt\n",
        "import seaborn as sns\n",
        "from sklearn.metrics import roc_curve, auc,roc_auc_score\n",
        "from sklearn.model_selection import train_test_split\n",
        "from sklearn.feature_extraction.text import TfidfVectorizer\n",
        "from sklearn.naive_bayes import GaussianNB \n",
        "from sklearn.metrics import accuracy_score, precision_score, recall_score, f1_score\n",
        "from sklearn.naive_bayes import MultinomialNB\n",
        "from sklearn.naive_bayes import BernoulliNB\n",
        "from sklearn.linear_model import LogisticRegression"
      ],
      "execution_count": 26,
      "outputs": []
    },
    {
      "cell_type": "code",
      "metadata": {
        "id": "p7e2D3ZKcj78"
      },
      "source": [
        "df = pd.read_csv('/content/drive/MyDrive/Amazon_reviews_after_sentiment.csv')"
      ],
      "execution_count": 2,
      "outputs": []
    },
    {
      "cell_type": "code",
      "metadata": {
        "id": "V_WKJlKmcuxg"
      },
      "source": [
        "df['Text'] = df['Text'].astype(str)"
      ],
      "execution_count": 3,
      "outputs": []
    },
    {
      "cell_type": "markdown",
      "metadata": {
        "id": "62uG6hk9c9sL"
      },
      "source": [
        "### Create document term matrix with TF-IDF"
      ]
    },
    {
      "cell_type": "markdown",
      "metadata": {
        "id": "BX_NHt3mdF7r"
      },
      "source": [
        "### Split Train and Test data"
      ]
    },
    {
      "cell_type": "code",
      "metadata": {
        "colab": {
          "base_uri": "https://localhost:8080/"
        },
        "id": "DZGOFGcMdIVM",
        "outputId": "9b7a5ae9-7961-4fac-ad24-d72f41559dec"
      },
      "source": [
        "y= df.Good_reviews.values \n",
        "X= df.Text\n",
        "\n",
        "X_train, X_test, y_train, y_test = train_test_split( X, y, test_size = 0.33, random_state = 820) \n",
        "print (X_train.shape, y_train.shape)\n",
        "print (X_test.shape, y_test.shape)"
      ],
      "execution_count": 4,
      "outputs": [
        {
          "output_type": "stream",
          "name": "stdout",
          "text": [
            "(263605,) (263605,)\n",
            "(129836,) (129836,)\n"
          ]
        }
      ]
    },
    {
      "cell_type": "markdown",
      "metadata": {
        "id": "bpO9BUqsdi9e"
      },
      "source": [
        "### Convert reviews to a matrix of TF-IDF features"
      ]
    },
    {
      "cell_type": "code",
      "metadata": {
        "id": "9dLCVieFdYpb"
      },
      "source": [
        "tfi = TfidfVectorizer(ngram_range=(1,3), max_features = 2000)\n",
        "\n",
        "X_train_tfi = tfi.fit_transform(X_train).toarray() \n",
        "X_test_tfi = tfi.transform(X_test).toarray()"
      ],
      "execution_count": 5,
      "outputs": []
    },
    {
      "cell_type": "markdown",
      "metadata": {
        "id": "4saTHHLFGjoc"
      },
      "source": [
        "### Naive Bayes with Gaussian Method"
      ]
    },
    {
      "cell_type": "code",
      "metadata": {
        "colab": {
          "base_uri": "https://localhost:8080/"
        },
        "id": "zl_s5pBjdsUh",
        "outputId": "765c77eb-bfe8-473e-a9e4-d5d3e7644b23"
      },
      "source": [
        "# Fitting naive bayes to the training set with Gaussian Method\n",
        "classifier_GNB = GaussianNB() \n",
        "classifier_GNB.fit(X_train_tfi, y_train) \n",
        "cv_gaussian= classifier_GNB.fit(X_train_tfi, y_train) # This will be used later for model comparison\n",
        "  \n",
        "# predicting test set results \n",
        "y_pred = classifier_GNB.predict(X_test_tfi) \n",
        "  \n",
        "# making the confusion matrix \n",
        "cm = confusion_matrix(y_test, y_pred) \n",
        "cm"
      ],
      "execution_count": 18,
      "outputs": [
        {
          "output_type": "execute_result",
          "data": {
            "text/plain": [
              "array([[23202,  5250],\n",
              "       [25313, 76071]])"
            ]
          },
          "metadata": {},
          "execution_count": 18
        }
      ]
    },
    {
      "cell_type": "code",
      "metadata": {
        "colab": {
          "base_uri": "https://localhost:8080/",
          "height": 301
        },
        "id": "Y_7wLIVYeOq1",
        "outputId": "ab32be69-3fa1-4e97-84e8-b2fea5106d43"
      },
      "source": [
        "sns.heatmap(cm, square=True, annot=True, cmap='RdBu', cbar=False, fmt='d', # fmt='d' gets rid of numbers like 1.8e + 02xticklabels=['Bad Review', 'Good Review'],\n",
        "yticklabels=['Bad Review', 'Good Review'])\n",
        "plt.xlabel('True label', fontsize= 15)\n",
        "plt.ylabel('Predicted label',fontsize= 15)"
      ],
      "execution_count": 19,
      "outputs": [
        {
          "output_type": "execute_result",
          "data": {
            "text/plain": [
              "Text(91.68, 0.5, 'Predicted label')"
            ]
          },
          "metadata": {},
          "execution_count": 19
        },
        {
          "output_type": "display_data",
          "data": {
            "image/png": "[encoded data removed]",
            "text/plain": [
              "<Figure size 432x288 with 1 Axes>"
            ]
          },
          "metadata": {
            "needs_background": "light"
          }
        }
      ]
    },
    {
      "cell_type": "code",
      "metadata": {
        "colab": {
          "base_uri": "https://localhost:8080/"
        },
        "id": "08QMGSQseXCj",
        "outputId": "d8611b38-bc10-48d1-c7d3-15e9402a2021"
      },
      "source": [
        "print('Accuracy score: {0:0.2f}'.format(accuracy_score(y_test, y_pred)))\n",
        "print('Precision score: {0:0.2f}'.format(precision_score(y_test, y_pred)))\n",
        "print('Recall score: {0:0.2f}'.format(recall_score(y_test, y_pred)))\n",
        "print('F1 score: {0:0.2f}'.format(f1_score(y_test, y_pred, average='micro')))"
      ],
      "execution_count": 20,
      "outputs": [
        {
          "output_type": "stream",
          "name": "stdout",
          "text": [
            "Accuracy score: 0.76\n",
            "Precision score: 0.94\n",
            "Recall score: 0.75\n",
            "F1 score: 0.76\n"
          ]
        }
      ]
    },
    {
      "cell_type": "markdown",
      "metadata": {
        "id": "flvIsfn2ej97"
      },
      "source": [
        "### MultinomialNB"
      ]
    },
    {
      "cell_type": "code",
      "metadata": {
        "colab": {
          "base_uri": "https://localhost:8080/"
        },
        "id": "_Nrho02KebAU",
        "outputId": "ec3d77d2-1d1c-4c0d-aa76-021776a4834a"
      },
      "source": [
        "# Fitting naive bayes to the training set with Multinomial Method\n",
        "classifier_MNB = MultinomialNB()\n",
        "classifier_MNB.fit(X_train_tfi, y_train) \n",
        "cv_mn = classifier_MNB.fit(X_train_tfi, y_train) # This will be used later for model comparison\n",
        "  \n",
        "# predicting test set results \n",
        "y_pred = classifier_MNB.predict(X_test_tfi) \n",
        "  \n",
        "# making the confusion matrix \n",
        "cm = confusion_matrix(y_test, y_pred) \n",
        "cm"
      ],
      "execution_count": 9,
      "outputs": [
        {
          "output_type": "execute_result",
          "data": {
            "text/plain": [
              "array([[  7055,  21397],\n",
              "       [   918, 100466]])"
            ]
          },
          "metadata": {},
          "execution_count": 9
        }
      ]
    },
    {
      "cell_type": "code",
      "metadata": {
        "colab": {
          "base_uri": "https://localhost:8080/",
          "height": 301
        },
        "id": "gflJ8ODcea1f",
        "outputId": "7bddac3a-55c3-4adb-ff02-852c2ad180b8"
      },
      "source": [
        "sns.heatmap(cm, square=True, annot=True, cmap='RdBu', cbar=False, fmt='d', # fmt='d' is a lifesaver. It gets rid of numbers like 1.8e + 02\n",
        "xticklabels=['Bad Review', 'Good Review'],\n",
        "yticklabels=['Bad Review', 'Good Review'])\n",
        "plt.xlabel('True label', fontsize= 15)\n",
        "plt.ylabel('Predicted label',fontsize= 15)"
      ],
      "execution_count": 10,
      "outputs": [
        {
          "output_type": "execute_result",
          "data": {
            "text/plain": [
              "Text(91.68, 0.5, 'Predicted label')"
            ]
          },
          "metadata": {},
          "execution_count": 10
        },
        {
          "output_type": "display_data",
          "data": {
            "image/png": "[encoded data removed]",
            "text/plain": [
              "<Figure size 432x288 with 1 Axes>"
            ]
          },
          "metadata": {
            "needs_background": "light"
          }
        }
      ]
    },
    {
      "cell_type": "code",
      "metadata": {
        "colab": {
          "base_uri": "https://localhost:8080/"
        },
        "id": "ZmCL2oWMe_xx",
        "outputId": "9f38eb0a-9092-48f4-eb7d-d60b111b3cfd"
      },
      "source": [
        "print('Accuracy score: {0:0.2f}'.format(accuracy_score(y_test, y_pred)))\n",
        "print('Precision score: {0:0.2f}'.format(precision_score(y_test, y_pred)))\n",
        "print('Recall score: {0:0.2f}'.format(recall_score(y_test, y_pred)))\n",
        "print('F1 score: {0:0.2f}'.format(f1_score(y_test, y_pred, average='micro')))"
      ],
      "execution_count": 12,
      "outputs": [
        {
          "output_type": "stream",
          "name": "stdout",
          "text": [
            "Accuracy score: 0.83\n",
            "Precision score: 0.82\n",
            "Recall score: 0.99\n",
            "F1 score: 0.83\n"
          ]
        }
      ]
    },
    {
      "cell_type": "markdown",
      "metadata": {
        "id": "m8h_up-zGseY"
      },
      "source": [
        "### BernoulliNB"
      ]
    },
    {
      "cell_type": "code",
      "metadata": {
        "colab": {
          "base_uri": "https://localhost:8080/"
        },
        "id": "BGJNKFoKDuKC",
        "outputId": "ac8e8ad0-9e67-495d-9b5d-725c68fd0aaf"
      },
      "source": [
        "classifier_BNB = BernoulliNB()\n",
        "classifier_BNB.fit(X_train_tfi, y_train) \n",
        "cv_ber= classifier_BNB.fit(X_train_tfi, y_train) # This will be used later for model comparison\n",
        "  \n",
        "# predicting test set results \n",
        "y_pred = classifier_BNB.predict(X_test_tfi) \n",
        "  \n",
        "# making the confusion matrix \n",
        "cm = confusion_matrix(y_test, y_pred) \n",
        "cm"
      ],
      "execution_count": 10,
      "outputs": [
        {
          "output_type": "execute_result",
          "data": {
            "text/plain": [
              "array([[17966, 10486],\n",
              "       [10888, 90496]])"
            ]
          },
          "metadata": {},
          "execution_count": 10
        }
      ]
    },
    {
      "cell_type": "code",
      "metadata": {
        "colab": {
          "base_uri": "https://localhost:8080/",
          "height": 301
        },
        "id": "0w-kOW5CDzYC",
        "outputId": "8f3240e2-c867-4c17-e979-1e6bd0d2a099"
      },
      "source": [
        "sns.heatmap(cm, square=True, annot=True, cmap='RdBu', cbar=False, fmt='d', # fmt='d' is a lifesaver. It gets rid of numbers like 1.8e + 02\n",
        "xticklabels=['Bad Review', 'Good Review'],\n",
        "yticklabels=['Bad Review', 'Good Review'])\n",
        "plt.xlabel('True label', fontsize= 15)\n",
        "plt.ylabel('Predicted label',fontsize= 15)"
      ],
      "execution_count": 11,
      "outputs": [
        {
          "output_type": "execute_result",
          "data": {
            "text/plain": [
              "Text(91.68, 0.5, 'Predicted label')"
            ]
          },
          "metadata": {},
          "execution_count": 11
        },
        {
          "output_type": "display_data",
          "data": {
            "image/png": "[encoded data removed]",
            "text/plain": [
              "<Figure size 432x288 with 1 Axes>"
            ]
          },
          "metadata": {
            "needs_background": "light"
          }
        }
      ]
    },
    {
      "cell_type": "code",
      "metadata": {
        "colab": {
          "base_uri": "https://localhost:8080/"
        },
        "id": "JlrdjYOwD4su",
        "outputId": "8730ef69-12bb-4b52-dd94-29be73f1cc02"
      },
      "source": [
        "print('Accuracy score: {0:0.2f}'.format(accuracy_score(y_test, y_pred)))\n",
        "print('Precision score: {0:0.2f}'.format(precision_score(y_test, y_pred)))\n",
        "print('Recall score: {0:0.2f}'.format(recall_score(y_test, y_pred)))\n",
        "print('F1 score: {0:0.2f}'.format(f1_score(y_test, y_pred, average='micro')))"
      ],
      "execution_count": 12,
      "outputs": [
        {
          "output_type": "stream",
          "name": "stdout",
          "text": [
            "Accuracy score: 0.84\n",
            "Precision score: 0.90\n",
            "Recall score: 0.89\n",
            "F1 score: 0.84\n"
          ]
        }
      ]
    },
    {
      "cell_type": "markdown",
      "metadata": {
        "id": "W-xHhX6KGx91"
      },
      "source": [
        "### LogisticRegression"
      ]
    },
    {
      "cell_type": "code",
      "metadata": {
        "id": "QufcdjJxEFgb"
      },
      "source": [
        "logreg = LogisticRegression(max_iter=1000)\n",
        "logreg.fit(X_train_tfi, y_train)\n",
        "cv_logreg= logreg.fit(X_train_tfi, y_train)\n",
        "\n",
        "# predicting test set results \n",
        "y_pred = logreg.predict(X_test_tfi)"
      ],
      "execution_count": 13,
      "outputs": []
    },
    {
      "cell_type": "code",
      "metadata": {
        "colab": {
          "base_uri": "https://localhost:8080/",
          "height": 301
        },
        "id": "gNLMAFoYEJVQ",
        "outputId": "524e1dac-8b83-401d-c821-12ee0e2c726a"
      },
      "source": [
        "# making the confusion matrix \n",
        "cm = confusion_matrix(y_test, y_pred) \n",
        "\n",
        "sns.heatmap(cm, square=True, annot=True, cmap='RdBu', cbar=False, fmt='d',\n",
        "xticklabels=['Bad Review', 'Good Review'],\n",
        "yticklabels=['Bad Review', 'Good Review'])\n",
        "plt.xlabel('True label', fontsize= 15)\n",
        "plt.ylabel('Predicted label',fontsize= 15)"
      ],
      "execution_count": 14,
      "outputs": [
        {
          "output_type": "execute_result",
          "data": {
            "text/plain": [
              "Text(91.68, 0.5, 'Predicted label')"
            ]
          },
          "metadata": {},
          "execution_count": 14
        },
        {
          "output_type": "display_data",
          "data": {
            "image/png": "[encoded data removed]",
            "text/plain": [
              "<Figure size 432x288 with 1 Axes>"
            ]
          },
          "metadata": {
            "needs_background": "light"
          }
        }
      ]
    },
    {
      "cell_type": "code",
      "metadata": {
        "colab": {
          "base_uri": "https://localhost:8080/"
        },
        "id": "SpZlZKswEODP",
        "outputId": "405fd4be-8eab-497e-98d9-6fec53dadf15"
      },
      "source": [
        "from sklearn.metrics import accuracy_score, precision_score, recall_score, f1_score\n",
        "\n",
        "print('Accuracy score: {0:0.2f}'.format(accuracy_score(y_test, y_pred)))\n",
        "print('Precision score: {0:0.2f}'.format(precision_score(y_test, y_pred)))\n",
        "print('Recall score: {0:0.2f}'.format(recall_score(y_test, y_pred)))\n",
        "print('F1 score: {0:0.2f}'.format(f1_score(y_test, y_pred, average='micro')))"
      ],
      "execution_count": 15,
      "outputs": [
        {
          "output_type": "stream",
          "name": "stdout",
          "text": [
            "Accuracy score: 0.88\n",
            "Precision score: 0.90\n",
            "Recall score: 0.95\n",
            "F1 score: 0.88\n"
          ]
        }
      ]
    },
    {
      "cell_type": "code",
      "metadata": {
        "colab": {
          "base_uri": "https://localhost:8080/"
        },
        "id": "AAHFbizUE9_8",
        "outputId": "13158169-ad64-4502-f6aa-1cf402ef24ee"
      },
      "source": [
        "# Get predicted probabilities for each classifiers from fitted classifiers\n",
        "y_score1 = cv_gaussian.predict_proba(X_test_tfi)[:,1]\n",
        "y_score2 = cv_mn.predict_proba(X_test_tfi)[:,1]\n",
        "y_score3 = cv_ber.predict_proba(X_test_tfi)[:,1]\n",
        "y_score4 = cv_logreg.predict_proba(X_test_tfi)[:,1]\n",
        "\n",
        "# Plot Receiving Operating Characteristic Curve\n",
        "  # Create true and false positive rates\n",
        "false_positive_rate1, true_positive_rate1, threshold1 = roc_curve(y_test, y_score1)\n",
        "false_positive_rate2, true_positive_rate2, threshold2 = roc_curve(y_test, y_score2)\n",
        "false_positive_rate3, true_positive_rate3, threshold3 = roc_curve(y_test, y_score3)\n",
        "false_positive_rate4, true_positive_rate4, threshold4 = roc_curve(y_test, y_score4)\n",
        "\n",
        "print('roc_auc_score for Gaussian NB: {0:0.2f}'.format (roc_auc_score(y_test, y_score1)))\n",
        "print('roc_auc_score for Multinominal NB: {0:0.2f}'.format (roc_auc_score(y_test, y_score2)))\n",
        "print('roc_auc_score for Bernoulli NB: {0:0.2f}'.format (roc_auc_score(y_test, y_score3)))\n",
        "print('roc_auc_score for Logistic Regression: {0:0.2f}'.format (roc_auc_score(y_test, y_score4)))"
      ],
      "execution_count": 27,
      "outputs": [
        {
          "output_type": "stream",
          "name": "stdout",
          "text": [
            "roc_auc_score for Gaussian NB: 0.84\n",
            "roc_auc_score for Multinominal NB: 0.90\n",
            "roc_auc_score for Bernoulli NB: 0.88\n",
            "roc_auc_score for Logistic Regression: 0.92\n"
          ]
        }
      ]
    },
    {
      "cell_type": "code",
      "metadata": {
        "colab": {
          "base_uri": "https://localhost:8080/",
          "height": 519
        },
        "id": "LkLz8DfvFQ3a",
        "outputId": "1461b877-bf84-4287-fe21-834e3771def0"
      },
      "source": [
        "sns.set(style=\"darkgrid\", color_codes=True)\n",
        "plt.figure(figsize= (8,8))\n",
        "plt.plot(false_positive_rate1, true_positive_rate1, label=\"Gaussion Method NB\")\n",
        "plt.plot(false_positive_rate2, true_positive_rate2, label=\"Multinominal NB\")\n",
        "plt.plot(false_positive_rate3, true_positive_rate3, label=\"Bernoulli NB\")\n",
        "plt.plot(false_positive_rate4, true_positive_rate4, label=\"Logistic Regression\")\n",
        "plt.plot([0, 1], ls=\"--\")\n",
        "plt.plot([0, 0], [1, 0] , c=\".7\"), plt.plot([1, 1] , c=\".7\")\n",
        "plt.ylabel('True Positive Rate', fontsize= 13)\n",
        "plt.xlabel('False Positive Rate', fontsize= 13)\n",
        "plt.title('Receiving Operating Characteristic (ROC) Curve ', fontsize= 14)\n",
        "plt.legend()\n",
        "plt.show()"
      ],
      "execution_count": 30,
      "outputs": [
        {
          "output_type": "display_data",
          "data": {
            "image/png": "[encoded data removed]",
            "text/plain": [
              "<Figure size 576x576 with 1 Axes>"
            ]
          },
          "metadata": {}
        }
      ]
    },
    {
      "cell_type": "markdown",
      "metadata": {
        "id": "Vrq4Bci9F-_p"
      },
      "source": [
        "Logistic Regression giving good results when compared to other models"
      ]
    }
  ]
}